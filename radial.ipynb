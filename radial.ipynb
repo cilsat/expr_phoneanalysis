{
 "cells": [
  {
   "cell_type": "code",
   "execution_count": 1,
   "metadata": {
    "collapsed": true
   },
   "outputs": [],
   "source": [
    "import pandas as pd\n",
    "import colorlover as cl\n",
    "import numpy as np\n",
    "import plotly.plotly as py\n",
    "import plotly.graph_objs as go"
   ]
  },
  {
   "cell_type": "code",
   "execution_count": 44,
   "metadata": {
    "collapsed": false
   },
   "outputs": [
    {
     "data": {
      "text/html": [
       "<div>\n",
       "<table border=\"1\" class=\"dataframe\">\n",
       "  <thead>\n",
       "    <tr style=\"text-align: right;\">\n",
       "      <th></th>\n",
       "      <th>phon</th>\n",
       "      <th>dur</th>\n",
       "      <th>m0</th>\n",
       "    </tr>\n",
       "  </thead>\n",
       "  <tbody>\n",
       "    <tr>\n",
       "      <th>A11LJL002A001</th>\n",
       "      <td>1</td>\n",
       "      <td>159</td>\n",
       "      <td>42.414419</td>\n",
       "    </tr>\n",
       "    <tr>\n",
       "      <th>A11LJL002A001</th>\n",
       "      <td>16</td>\n",
       "      <td>8</td>\n",
       "      <td>84.361067</td>\n",
       "    </tr>\n",
       "    <tr>\n",
       "      <th>A11LJL002A001</th>\n",
       "      <td>30</td>\n",
       "      <td>8</td>\n",
       "      <td>65.576379</td>\n",
       "    </tr>\n",
       "    <tr>\n",
       "      <th>A11LJL002A001</th>\n",
       "      <td>38</td>\n",
       "      <td>6</td>\n",
       "      <td>69.506062</td>\n",
       "    </tr>\n",
       "    <tr>\n",
       "      <th>A11LJL002A001</th>\n",
       "      <td>130</td>\n",
       "      <td>6</td>\n",
       "      <td>78.975420</td>\n",
       "    </tr>\n",
       "  </tbody>\n",
       "</table>\n",
       "</div>"
      ],
      "text/plain": [
       "               phon  dur         m0\n",
       "A11LJL002A001     1  159  42.414419\n",
       "A11LJL002A001    16    8  84.361067\n",
       "A11LJL002A001    30    8  65.576379\n",
       "A11LJL002A001    38    6  69.506062\n",
       "A11LJL002A001   130    6  78.975420"
      ]
     },
     "execution_count": 44,
     "metadata": {},
     "output_type": "execute_result"
    }
   ],
   "source": [
    "df = pd.read_hdf('df-2.0.hdf')\n",
    "df.drop(df[df.index.str.len() < 13].index, inplace=True)\n",
    "df.drop(['pos'], axis=1, inplace=True)\n",
    "df.drop(df.columns[3:], axis=1, inplace=True)\n",
    "df.head()"
   ]
  },
  {
   "cell_type": "code",
   "execution_count": 68,
   "metadata": {
    "collapsed": false
   },
   "outputs": [
    {
     "data": {
      "text/html": [
       "<div>\n",
       "<table border=\"1\" class=\"dataframe\">\n",
       "  <thead>\n",
       "    <tr style=\"text-align: right;\">\n",
       "      <th></th>\n",
       "      <th>dur</th>\n",
       "      <th>m0</th>\n",
       "    </tr>\n",
       "  </thead>\n",
       "  <tbody>\n",
       "    <tr>\n",
       "      <th>A</th>\n",
       "      <td>20.814580</td>\n",
       "      <td>136.723121</td>\n",
       "    </tr>\n",
       "    <tr>\n",
       "      <th>B</th>\n",
       "      <td>20.122835</td>\n",
       "      <td>136.156628</td>\n",
       "    </tr>\n",
       "    <tr>\n",
       "      <th>J</th>\n",
       "      <td>20.015139</td>\n",
       "      <td>138.306636</td>\n",
       "    </tr>\n",
       "    <tr>\n",
       "      <th>M</th>\n",
       "      <td>20.540986</td>\n",
       "      <td>136.793224</td>\n",
       "    </tr>\n",
       "    <tr>\n",
       "      <th>P</th>\n",
       "      <td>22.022289</td>\n",
       "      <td>135.176590</td>\n",
       "    </tr>\n",
       "    <tr>\n",
       "      <th>S</th>\n",
       "      <td>20.097193</td>\n",
       "      <td>136.187172</td>\n",
       "    </tr>\n",
       "    <tr>\n",
       "      <th>T</th>\n",
       "      <td>22.552886</td>\n",
       "      <td>135.938183</td>\n",
       "    </tr>\n",
       "    <tr>\n",
       "      <th>W</th>\n",
       "      <td>21.862594</td>\n",
       "      <td>135.238553</td>\n",
       "    </tr>\n",
       "  </tbody>\n",
       "</table>\n",
       "</div>"
      ],
      "text/plain": [
       "         dur          m0\n",
       "A  20.814580  136.723121\n",
       "B  20.122835  136.156628\n",
       "J  20.015139  138.306636\n",
       "M  20.540986  136.793224\n",
       "P  22.022289  135.176590\n",
       "S  20.097193  136.187172\n",
       "T  22.552886  135.938183\n",
       "W  21.862594  135.238553"
      ]
     },
     "execution_count": 68,
     "metadata": {},
     "output_type": "execute_result"
    }
   ],
   "source": [
    "#df.dur = (df.dur.astype(float) - df.dur.min())/df.dur.std()\n",
    "#df.m0 = (df.m0 - df.m0.min())/df.m0.std()\n",
    "#dfb = df.loc[(df.phon == 44) | (df.phon == 16) | (df.phon == 40)]\n",
    "#dfe = df.loc[(df.phon == 45) | (df.phon == 17) | (df.phon == 41)]\n",
    "#dfi = df.loc[(df.phon == 46) | (df.phon == 18) | (df.phon == 42)]\n",
    "dfb = df.loc[(df.phon == 44)]\n",
    "dfe = df.loc[(df.phon == 45)]\n",
    "dfi = df.loc[(df.phon == 46)]\n",
    "dfbs = dfb.groupby(dfb.index.str.get(4)).mean()\n",
    "dfbs = dfbs/dfbs.std()\n",
    "dfes = dfe.groupby(dfe.index.str.get(4)).mean()\n",
    "dfes = dfes/dfes.std()\n",
    "dfis = dfi.groupby(dfi.index.str.get(4)).mean()\n",
    "dfis = dfis/dfis.std()\n",
    "dfis.drop(['phon'], axis=1).head(10)"
   ]
  },
  {
   "cell_type": "code",
   "execution_count": 65,
   "metadata": {
    "collapsed": false
   },
   "outputs": [
    {
     "data": {
      "text/html": [
       "<iframe id=\"igraph\" scrolling=\"no\" style=\"border:none;\" seamless=\"seamless\" src=\"https://plot.ly/~cilsat/38.embed\" height=\"525px\" width=\"100%\"></iframe>"
      ],
      "text/plain": [
       "<plotly.tools.PlotlyDisplay object>"
      ]
     },
     "execution_count": 65,
     "metadata": {},
     "output_type": "execute_result"
    }
   ],
   "source": [
    "r = range(8)\n",
    "s = ['Sulawesi', 'Papua', 'Bali', 'Jawa', 'Sunda', 'Betawi', 'Minang', 'Batak']\n",
    "su = ['W', 'P', 'B', 'J', 'S', 'A', 'M', 'T']\n",
    "dfbs = dfbs.reindex(su)\n",
    "dfes = dfes.reindex(su)\n",
    "dfis = dfis.reindex(su)\n",
    "t1 = go.Area(r=dfbs.dur, t=s, name='awal', marker=dict(color=cl.scales['9']['seq']['PuBu'][1]))\n",
    "t2 = go.Area(r=dfes.dur, t=s, name='akhir', marker=dict(color=cl.scales['9']['seq']['PuBu'][2]))\n",
    "t3 = go.Area(r=dfis.dur, t=s, name='dalam', marker=dict(color=cl.scales['9']['seq']['PuBu'][3]))\n",
    "fig = go.Figure(data=[t1,t2,t3], layout=go.Layout(barmode='stack', angularaxis=dict(tickcolor='rgb(253,253, 253)'), plot_bgcolor='rgb(223,223,223)'))\n",
    "py.iplot(fig)"
   ]
  },
  {
   "cell_type": "markdown",
   "metadata": {},
   "source": []
  }
 ],
 "metadata": {
  "kernelspec": {
   "display_name": "Python 2",
   "language": "python",
   "name": "python2"
  },
  "language_info": {
   "codemirror_mode": {
    "name": "ipython",
    "version": 2
   },
   "file_extension": ".py",
   "mimetype": "text/x-python",
   "name": "python",
   "nbconvert_exporter": "python",
   "pygments_lexer": "ipython2",
   "version": "2.7.12"
  }
 },
 "nbformat": 4,
 "nbformat_minor": 0
}
